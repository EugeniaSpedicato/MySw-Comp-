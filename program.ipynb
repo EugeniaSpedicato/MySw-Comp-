{
 "cells": [
  {
   "cell_type": "code",
   "execution_count": 1,
   "metadata": {},
   "outputs": [],
   "source": [
    "import pandas as pd\n",
    "import matplotlib.pyplot as plt\n",
    "import numpy as np\n",
    "from sklearn.model_selection import train_test_split\n",
    "from sklearn.preprocessing import StandardScaler\n",
    "import matplotlib\n",
    "import matplotlib.pyplot as plt"
   ]
  },
  {
   "cell_type": "markdown",
   "metadata": {},
   "source": [
    "I will now load the dataset ma devo capire che sto a fa\n"
   ]
  },
  {
   "cell_type": "code",
   "execution_count": 2,
   "metadata": {
    "scrolled": false
   },
   "outputs": [],
   "source": [
    "names=[\"class label\", \"lepton 1 pT\", \"lepton 1 eta\", \"lepton 1 phi\",\n",
    "                     \"lepton 2 pT\", \"lepton 2 eta\", \"lepton 2 phi\",\n",
    "                     \"missing energy magnitude\", \"missing energy phi\", \n",
    "                     \"MET_rel\", \"axial MET\",\"M_R\", \"M_TR_2\", \"R\", \"MT2\", \"S_R\",\n",
    "                     \"M_Delta_R\", \"dPhi_r_b\", \"cos(theta_r1)\"]\n",
    "df = pd.read_csv('SUSY.csv', \n",
    "                 encoding='utf-8', \n",
    "                 comment='#',\n",
    "                 sep=',',\n",
    "                 names=names)"
   ]
  }
 ],
 "metadata": {
  "kernelspec": {
   "display_name": "Python 3",
   "language": "python",
   "name": "python3"
  },
  "language_info": {
   "codemirror_mode": {
    "name": "ipython",
    "version": 3
   },
   "file_extension": ".py",
   "mimetype": "text/x-python",
   "name": "python",
   "nbconvert_exporter": "python",
   "pygments_lexer": "ipython3",
   "version": "3.7.7"
  }
 },
 "nbformat": 4,
 "nbformat_minor": 4
}
